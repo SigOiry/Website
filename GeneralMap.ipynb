{
  "cells": [
    {
      "cell_type": "raw",
      "metadata": {},
      "source": [
        "---\n",
        "format:\n",
        "  html:\n",
        "    page-layout: full\n",
        "    # grid:\n",
        "    #   sidebar-width: 0px\n",
        "      # body-width: 1500px\n",
        "    #   margin-width: 200px\n",
        "    #   gutter-width: 0px\n",
        "\n",
        "---"
      ],
      "id": "e4dd9a81"
    },
    {
      "cell_type": "markdown",
      "metadata": {},
      "source": [
        "```{html}\n",
        "<iframe width=\"100%\" height=\"100%\" src=\"https://oirysimon.shinyapps.io/shinymap/\" title=\"Quarto Documentation\"></iframe>\n",
        "```"
      ],
      "id": "8a085e7c"
    }
  ],
  "metadata": {
    "kernelspec": {
      "display_name": "Python 3",
      "language": "python",
      "name": "python3"
    }
  },
  "nbformat": 4,
  "nbformat_minor": 5
}